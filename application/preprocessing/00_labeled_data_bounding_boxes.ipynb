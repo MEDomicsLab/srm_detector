{
 "cells": [
  {
   "cell_type": "markdown",
   "metadata": {},
   "source": [
    "### Import Libraries"
   ]
  },
  {
   "cell_type": "code",
   "execution_count": null,
   "metadata": {},
   "outputs": [],
   "source": [
    "import os, sys\n",
    "sys.path.append(os.path.abspath(os.path.join('..', '..')))\n",
    "from utils import save_dict_as_csv, save_gifs\n",
    "from data.roi import load_labeled_data, load_bbox, plot_bounding_boxes\n",
    "from data.transforms import get_bbox_transforms"
   ]
  },
  {
   "cell_type": "markdown",
   "metadata": {},
   "source": [
    "### Generate Bounding Boxes"
   ]
  },
  {
   "cell_type": "code",
   "execution_count": null,
   "metadata": {},
   "outputs": [],
   "source": [
    "num_classes = 3\n",
    "post_proc_transform, post_pred_transform = get_bbox_transforms()\n",
    "data = load_labeled_data()\n",
    "data = load_bbox(data, post_pred_transform) "
   ]
  },
  {
   "cell_type": "markdown",
   "metadata": {},
   "source": [
    "### Save the dictionary in a CSV"
   ]
  },
  {
   "cell_type": "code",
   "execution_count": null,
   "metadata": {},
   "outputs": [],
   "source": [
    "save_dict_as_csv(data, filename=\"labeled_kidney_bbox.csv\")"
   ]
  },
  {
   "cell_type": "markdown",
   "metadata": {},
   "source": [
    "### Plot Bounding Boxes"
   ]
  },
  {
   "cell_type": "code",
   "execution_count": null,
   "metadata": {},
   "outputs": [],
   "source": [
    "# choose a patient example to plot\n",
    "i = 10\n",
    "    \n",
    "img_sample = post_proc_transform(data['img'][i])\n",
    "mask_sample = post_pred_transform(data['seg'][i])\n",
    "pred_mask_sample = post_pred_transform(data['pred'][i])\n",
    "\n",
    "# Calculate bounding boxes for ground truth mask and predicted mask\n",
    "pred_boxes = data['bbox'][i] #bounding_box(pred_mask_sample)  \n",
    "\n",
    "for slice_num in range(20,img_sample.size(3)):\n",
    "    plot_bounding_boxes(img_sample, mask_sample, pred_mask_sample, pred_boxes, slice_num, data['root'][i])\n"
   ]
  },
  {
   "cell_type": "markdown",
   "metadata": {},
   "source": [
    "### Save outputs as GIFs"
   ]
  },
  {
   "cell_type": "code",
   "execution_count": null,
   "metadata": {},
   "outputs": [],
   "source": [
    "save_gifs(data, post_proc_transform, post_pred_transform, tag='labeled')"
   ]
  }
 ],
 "metadata": {
  "language_info": {
   "name": "python"
  }
 },
 "nbformat": 4,
 "nbformat_minor": 2
}
