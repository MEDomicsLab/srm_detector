{
 "cells": [
  {
   "cell_type": "code",
   "execution_count": 6,
   "metadata": {},
   "outputs": [
    {
     "name": "stderr",
     "output_type": "stream",
     "text": [
      "2024-09-20 16:20:43.038532: I tensorflow/core/util/port.cc:110] oneDNN custom operations are on. You may see slightly different numerical results due to floating-point round-off errors from different computation orders. To turn them off, set the environment variable `TF_ENABLE_ONEDNN_OPTS=0`.\n",
      "2024-09-20 16:20:43.042583: I tensorflow/tsl/cuda/cudart_stub.cc:28] Could not find cuda drivers on your machine, GPU will not be used.\n",
      "2024-09-20 16:20:43.110192: I tensorflow/core/platform/cpu_feature_guard.cc:182] This TensorFlow binary is optimized to use available CPU instructions in performance-critical operations.\n",
      "To enable the following instructions: AVX2 AVX512F AVX512_VNNI FMA, in other operations, rebuild TensorFlow with the appropriate compiler flags.\n"
     ]
    }
   ],
   "source": [
    "import sys\n",
    "import os\n",
    "import numpy as np\n",
    "sys.path.append(os.path.abspath(\"/projects/renal/srm_detection_main\"))\n",
    "\n",
    "\n",
    "from torch.utils.data import DataLoader\n",
    "from sklearn.model_selection import train_test_split\n",
    "from sklearn.utils import shuffle\n",
    "\n",
    "import monai\n",
    "from monai.data import pad_list_data_collate\n",
    "\n",
    "from utils import *\n",
    "from constants import *\n",
    "from data.transforms import get_kidney_transforms, get_srm_transforms, InfiniteSampler\n",
    "from data.dataset import ROIDataset\n",
    "from monai.data import pad_list_data_collate\n",
    "\n",
    "from monai.transforms import (\n",
    "    Compose,\n",
    "    EnsureChannelFirstd,\n",
    "    LoadImaged,\n",
    "    ScaleIntensityRanged,\n",
    "    Spacingd,\n",
    "    ResampleToMatchd,\n",
    "    LabelToContourd,\n",
    "    KeepLargestConnectedComponentd,\n",
    "    FillHolesd,\n",
    "    RandSpatialCropSamplesd,\n",
    "    MapLabelValued,\n",
    ")\n"
   ]
  },
  {
   "cell_type": "markdown",
   "metadata": {},
   "source": [
    "## Helper functions"
   ]
  },
  {
   "cell_type": "code",
   "execution_count": 7,
   "metadata": {},
   "outputs": [],
   "source": [
    "def get_kidney_transforms(mode=\"holdout\", keys=(\"img\",)):  # Only \"img\" key since you're using images\n",
    "    \"\"\"Get specific transforms for labeled and unlabeled datasets\"\"\"\n",
    "    xforms = [\n",
    "        LoadImaged(keys, allow_missing_keys=True),\n",
    "        EnsureChannelFirstd(keys),\n",
    "        Spacingd(keys[0], pixdim=(2.0, 2.0, 5.0), mode=\"bilinear\"),  # Only apply to \"img\"\n",
    "        ScaleIntensityRanged(keys[0], a_min=-500.0, a_max=500.0, b_min=0.0, b_max=1.0, clip=True),\n",
    "    ]\n",
    "    \n",
    "    # Additional transforms for other modes\n",
    "    if mode == \"unlabeled_train\":\n",
    "        xforms.extend(\n",
    "            [\n",
    "                # These will apply when you have 'seg' and 'pred' in your data dictionary\n",
    "                ResampleToMatchd(keys={\"img\", \"seg\"}, key_dst=\"pred\"),\n",
    "                LabelToContourd(keys={\"pred\"}),\n",
    "                KeepLargestConnectedComponentd(keys={\"pred\"}, is_onehot=False, independent=True, connectivity=3, num_components=2),\n",
    "                FillHolesd(keys={\"pred\"}, applied_labels=[1, 2], connectivity=3),\n",
    "            ]\n",
    "        )\n",
    "        \n",
    "    return Compose(xforms)"
   ]
  },
  {
   "cell_type": "code",
   "execution_count": 151,
   "metadata": {},
   "outputs": [],
   "source": [
    "import os\n",
    "import nrrd\n",
    "import torch\n",
    "import monai\n",
    "\n",
    "def predict_kidneys(image_path, \n",
    "                    vol_dir=\"/projects/renal/demo_predictions/whole/volumes\", \n",
    "                    mask_dir=\"/projects/renal/demo_predictions/whole/masks\"):\n",
    "    \n",
    "    # Load image\n",
    "    train_files = [{\"img\": image_path}]\n",
    "\n",
    "    # Create the transforms for image\n",
    "    labeled_train_transforms = get_kidney_transforms(\"holdout\", keys=(\"img\",))\n",
    "\n",
    "    # Create the CacheDataset and DataLoader\n",
    "    train_ds = monai.data.CacheDataset(data=train_files, transform=labeled_train_transforms)\n",
    "\n",
    "    holdout_whole_loader = monai.data.DataLoader(\n",
    "        train_ds,\n",
    "        num_workers=4,\n",
    "        pin_memory=torch.cuda.is_available(),\n",
    "        batch_size=1,  # Adjust batch size as needed\n",
    "    )\n",
    "\n",
    "    # MT model\n",
    "    device = torch.device(\"cpu\")\n",
    "\n",
    "    model = monai.networks.nets.BasicUNet(\n",
    "        spatial_dims=3,\n",
    "        in_channels=1,\n",
    "        out_channels=3,\n",
    "        features=(16, 32, 64, 128, 256, 32),\n",
    "        dropout=0.5,\n",
    "    ).to(device)\n",
    "\n",
    "    ## Load MT Model\n",
    "    state_dict = torch.load(os.path.join(\"/projects/renal/01_kidney_segmentation/semi_supervised/01_mean_teacher/model/best_metric_model_full_256.pth\"), map_location=torch.device('cpu'))\n",
    "    model.load_state_dict(state_dict)\n",
    "    model.eval()\n",
    "\n",
    "    # Predict\n",
    "    with torch.no_grad():  \n",
    "        for test_data in holdout_whole_loader:  # only one image in dataloader\n",
    "            test_outputs = model(test_data[\"img\"].to(device))\n",
    "            \n",
    "        mask = torch.argmax(test_outputs, dim=1).detach().cpu().squeeze(0)  # remove batch\n",
    "        volume = test_data[\"img\"].to(device).squeeze(0).squeeze(0)\n",
    "\n",
    "    # Convert to numpy arrays for saving\n",
    "    mask_np = mask.numpy()\n",
    "    volume_np = volume.numpy()\n",
    "\n",
    "    # Extract patient name from image_path\n",
    "    patient_name = os.path.basename(os.path.dirname(os.path.dirname(image_path)))\n",
    "\n",
    "    # Define output paths with patient name\n",
    "    mask_path = os.path.join(mask_dir, f\"{patient_name}_output_mask.seg.nrrd\")\n",
    "    volume_path = os.path.join(vol_dir, f\"{patient_name}_output_volume.nrrd\")\n",
    "\n",
    "    # Save the mask and volume\n",
    "    nrrd.write(mask_path, mask_np)\n",
    "    nrrd.write(volume_path, volume_np)\n",
    "\n",
    "    return mask, volume\n"
   ]
  },
  {
   "cell_type": "code",
   "execution_count": 43,
   "metadata": {},
   "outputs": [],
   "source": [
    "import nrrd\n",
    "import os\n",
    "\n",
    "def load_cropped_data(predictions_dir):\n",
    "    cropped_data = {\n",
    "        \"Patient_ID\": [],\n",
    "        \"img\": [],\n",
    "        \"seg\": []\n",
    "    }\n",
    "    \n",
    "    # List all patient directories\n",
    "    patient_dirs = [d for d in os.listdir(predictions_dir) if os.path.isdir(os.path.join(predictions_dir, d))]\n",
    "    \n",
    "    for patient_id in patient_dirs:\n",
    "        patient_dir = os.path.join(predictions_dir, patient_id)\n",
    "        \n",
    "        # Define file paths for image and segmentation\n",
    "        image_filename = os.path.join(patient_dir, f'cropped_image_{patient_id}.nrrd')\n",
    "        seg_filename = os.path.join(patient_dir, f'cropped_image_{patient_id}.seg.nrrd')\n",
    "        \n",
    "        # Read the image and segmentation files\n",
    "        image, _ = nrrd.read(image_filename)\n",
    "        seg, _ = nrrd.read(seg_filename)\n",
    "        \n",
    "        # Append data to the lists in the dictionary\n",
    "        cropped_data[\"Patient_ID\"].append(patient_id)\n",
    "        cropped_data[\"img\"].append(image)\n",
    "        cropped_data[\"seg\"].append(seg)\n",
    "    \n",
    "    return cropped_data"
   ]
  },
  {
   "cell_type": "code",
   "execution_count": 165,
   "metadata": {},
   "outputs": [],
   "source": [
    "\n",
    "def predict_cropped_srm(image, patient_id, voi_dir=\"/projects/renal/demo_predictions/cropped/volumes\", mask_dir=\"/projects/renal/demo_predictions/cropped/masks\"):\n",
    "    \n",
    "    test_files = [{\"img\": image}]\n",
    "\n",
    "    test_ds = monai.data.CacheDataset(test_files)\n",
    "\n",
    "    test_loader = monai.data.DataLoader(\n",
    "        test_ds,\n",
    "        batch_size=4,  # image-level batch to the sliding window method\n",
    "        num_workers=4,\n",
    "        pin_memory=torch.cuda.is_available(),\n",
    "        collate_fn=pad_list_data_collate,\n",
    "    )\n",
    "\n",
    "    # MT model\n",
    "    device = torch.device(\"cpu\")\n",
    "\n",
    "    model = monai.networks.nets.BasicUNet(\n",
    "        spatial_dims=3,\n",
    "        in_channels=1,\n",
    "        out_channels=2,\n",
    "        features=(16, 32, 64, 128, 32, 16),\n",
    "        dropout=0.1,\n",
    "    ).to(device)\n",
    "\n",
    "    ## Load MT Model\n",
    "    state_dict = torch.load(os.path.join(\"/projects/renal/srm_detection_main/models/weights_draft/segmentation/srm/best_fully_supervised_srm_model_fold_5.pth\"), map_location=torch.device('cpu'))\n",
    "    model.load_state_dict(state_dict)\n",
    "    model.eval()\n",
    "\n",
    "    # Predict\n",
    "    with torch.no_grad():  \n",
    "        for test_data in test_loader:  # only one image in dataloader\n",
    "            test_outputs = model(test_data[\"img\"].squeeze(0).to(device))\n",
    "            \n",
    "        mask = torch.argmax(test_outputs, dim=1).detach().cpu().squeeze(0)  # remove batch\n",
    "        volume = test_data[\"img\"].to(device).squeeze(0).squeeze(0).squeeze(0)\n",
    "\n",
    "    # Convert to numpy arrays for saving\n",
    "    mask_np = mask.numpy()\n",
    "    volume_np = volume.numpy()\n",
    "\n",
    "    # Define output paths with patient ID\n",
    "    mask_path = os.path.join(mask_dir, f\"{patient_id}_output_mask.seg.nrrd\")\n",
    "    volume_path = os.path.join(voi_dir, f\"{patient_id}_output_volume.nrrd\")\n",
    "\n",
    "    # Save the mask and volume\n",
    "    nrrd.write(mask_path, mask_np)\n",
    "    nrrd.write(volume_path, volume_np)\n",
    "\n",
    "    return mask, volume\n"
   ]
  },
  {
   "cell_type": "code",
   "execution_count": 210,
   "metadata": {},
   "outputs": [],
   "source": [
    "import numpy as np\n",
    "import pandas as pd\n",
    "import torch\n",
    "import monai\n",
    "\n",
    "def predict_srm(cropped_data, model, output_path, keys, n_samples=50):\n",
    "    \n",
    "    test_files = [{\"img\": img, \"id\": id} for img, id in zip(cropped_data['img'], cropped_data[\"Patient_ID\"])]\n",
    "    test_ds = monai.data.CacheDataset(test_files)\n",
    "    test_loader = monai.data.DataLoader(\n",
    "        test_ds,\n",
    "        batch_size=1,\n",
    "        num_workers=4,\n",
    "        pin_memory=torch.cuda.is_available(),\n",
    "        collate_fn=pad_list_data_collate,\n",
    "    )\n",
    "\n",
    "    # Setup device\n",
    "    device = torch.device(\"cuda\" if torch.cuda.is_available() else \"cpu\")\n",
    "\n",
    "    # Load the best model\n",
    "    best_cnn_model = PatNET().to(device)\n",
    "    best_cnn_model.load_state_dict(torch.load(model, map_location=torch.device('cpu')))\n",
    "    \n",
    "    # Ensure dropout remains active during inference\n",
    "    best_cnn_model.train()  # Enable dropout\n",
    "    \n",
    "    # Initialize lists to store probabilities, predictions, and patient IDs\n",
    "    all_probabilities = []\n",
    "    patient_ids = []\n",
    "    predictions = []\n",
    "    predicted_probs = []\n",
    "    std_probs = []  # To store standard deviations\n",
    "\n",
    "    # Disable gradient calculation for inference\n",
    "    with torch.no_grad():\n",
    "        for test_data in test_loader:\n",
    "            input_tensor = test_data[\"img\"].squeeze(0).clone().detach().to(device)\n",
    "            patient_id = test_data[\"id\"][0]  # Extract patient ID (since batch size = 1)\n",
    "\n",
    "            # Collect multiple predictions with dropout enabled\n",
    "            probabilities = []\n",
    "            for _ in range(n_samples):\n",
    "                output, _ = best_cnn_model(input_tensor)  # Forward pass\n",
    "                prob = torch.softmax(output, dim=1).cpu().numpy()\n",
    "                probabilities.append(prob)\n",
    "            \n",
    "            probabilities = np.array(probabilities)\n",
    "            mean_prob = probabilities.mean(axis=0)  # Mean probability over all samples\n",
    "            std_prob = probabilities.std(axis=0)    # Standard deviation of the probabilities\n",
    "\n",
    "            all_probabilities.append(mean_prob)\n",
    "            std_probs.append(std_prob)\n",
    "            patient_ids.append(patient_id)\n",
    "\n",
    "            # Determine the predicted class and its probability\n",
    "            if mean_prob[0, 0] > mean_prob[0, 1]:\n",
    "                predictions.append(keys[0])\n",
    "                predicted_probs.append(mean_prob[0, 0])\n",
    "            else:\n",
    "                predictions.append(keys[1])\n",
    "                predicted_probs.append(mean_prob[0, 1])\n",
    "\n",
    "    # Convert list of arrays to a numpy array for bootstrapping\n",
    "    all_probabilities = np.array(all_probabilities)\n",
    "\n",
    "    # Create a DataFrame with Patient_ID, Prediction, Probability, and Standard Deviation\n",
    "    results_df = pd.DataFrame({\n",
    "        \"Patient_ID\": patient_ids,\n",
    "        \"Prediction\": predictions,\n",
    "        \"Probability\": predicted_probs,\n",
    "        \"Std_Prob\": [std[0, 1] if pred == keys[1] else std[0, 0] for pred, std in zip(predictions, std_probs)]\n",
    "    })\n",
    "\n",
    "    # Save DataFrame to CSV\n",
    "    results_df.to_csv(f\"{output_path}\", index=False)\n",
    "    \n",
    "    return results_df\n"
   ]
  },
  {
   "cell_type": "markdown",
   "metadata": {},
   "source": [
    "## Inference for Kidney Segmentation"
   ]
  },
  {
   "cell_type": "code",
   "execution_count": 162,
   "metadata": {},
   "outputs": [
    {
     "name": "stderr",
     "output_type": "stream",
     "text": [
      "Loading dataset: 100%|██████████| 1/1 [00:01<00:00,  1.48s/it]"
     ]
    },
    {
     "name": "stdout",
     "output_type": "stream",
     "text": [
      "BasicUNet features: (16, 32, 64, 128, 256, 32).\n"
     ]
    },
    {
     "name": "stderr",
     "output_type": "stream",
     "text": [
      "\n"
     ]
    }
   ],
   "source": [
    "image_path = '/projects/renal/srm_detection_main/application/holdout/whole/Renal-CHUS-0107/CECT/CECT.nrrd'\n",
    "mask, volume = predict_kidneys(image_path)"
   ]
  },
  {
   "cell_type": "code",
   "execution_count": 164,
   "metadata": {},
   "outputs": [
    {
     "data": {
      "text/plain": [
       "<matplotlib.image.AxesImage at 0x7f8d8e977ee0>"
      ]
     },
     "execution_count": 164,
     "metadata": {},
     "output_type": "execute_result"
    },
    {
     "data": {
      "image/png": "[encoded data removed]",
      "text/plain": [
       "<Figure size 1296x432 with 1 Axes>"
      ]
     },
     "metadata": {
      "needs_background": "light"
     },
     "output_type": "display_data"
    }
   ],
   "source": [
    "plt.figure(\"check\", (18, 6))\n",
    "plt.subplot(1, 3, 1)\n",
    "plt.imshow(mask[:, :, 10], cmap=\"gray\")\n"
   ]
  },
  {
   "cell_type": "markdown",
   "metadata": {},
   "source": [
    "## Inference for SRM Segmentation"
   ]
  },
  {
   "cell_type": "code",
   "execution_count": 45,
   "metadata": {},
   "outputs": [
    {
     "name": "stderr",
     "output_type": "stream",
     "text": [
      "Loading dataset: 100%|██████████| 11/11 [00:00<00:00, 1023.84it/s]\n"
     ]
    }
   ],
   "source": [
    "cropped_image_path = \"/projects/renal/srm_detection_main/application/holdout/voi\"\n",
    "cropped_data = load_cropped_data(cropped_image_path)"
   ]
  },
  {
   "cell_type": "code",
   "execution_count": 167,
   "metadata": {},
   "outputs": [
    {
     "name": "stderr",
     "output_type": "stream",
     "text": [
      "Loading dataset: 100%|██████████| 1/1 [00:00<00:00, 876.55it/s]"
     ]
    },
    {
     "name": "stdout",
     "output_type": "stream",
     "text": [
      "BasicUNet features: (16, 32, 64, 128, 32, 16).\n"
     ]
    },
    {
     "name": "stderr",
     "output_type": "stream",
     "text": [
      "\n",
      "Loading dataset: 100%|██████████| 1/1 [00:00<00:00, 2807.43it/s]"
     ]
    },
    {
     "name": "stdout",
     "output_type": "stream",
     "text": [
      "BasicUNet features: (16, 32, 64, 128, 32, 16).\n"
     ]
    },
    {
     "name": "stderr",
     "output_type": "stream",
     "text": [
      "\n",
      "Loading dataset: 100%|██████████| 1/1 [00:00<00:00, 2998.07it/s]"
     ]
    },
    {
     "name": "stdout",
     "output_type": "stream",
     "text": [
      "BasicUNet features: (16, 32, 64, 128, 32, 16).\n"
     ]
    },
    {
     "name": "stderr",
     "output_type": "stream",
     "text": [
      "\n",
      "Loading dataset: 100%|██████████| 1/1 [00:00<00:00, 10782.27it/s]"
     ]
    },
    {
     "name": "stdout",
     "output_type": "stream",
     "text": [
      "BasicUNet features: (16, 32, 64, 128, 32, 16).\n"
     ]
    },
    {
     "name": "stderr",
     "output_type": "stream",
     "text": [
      "\n",
      "Loading dataset: 100%|██████████| 1/1 [00:00<00:00, 9799.78it/s]"
     ]
    },
    {
     "name": "stdout",
     "output_type": "stream",
     "text": [
      "BasicUNet features: (16, 32, 64, 128, 32, 16).\n"
     ]
    },
    {
     "name": "stderr",
     "output_type": "stream",
     "text": [
      "\n",
      "Loading dataset: 100%|██████████| 1/1 [00:00<00:00, 3741.57it/s]"
     ]
    },
    {
     "name": "stdout",
     "output_type": "stream",
     "text": [
      "BasicUNet features: (16, 32, 64, 128, 32, 16).\n"
     ]
    },
    {
     "name": "stderr",
     "output_type": "stream",
     "text": [
      "\n",
      "Loading dataset: 100%|██████████| 1/1 [00:00<00:00, 1845.27it/s]"
     ]
    },
    {
     "name": "stdout",
     "output_type": "stream",
     "text": [
      "BasicUNet features: (16, 32, 64, 128, 32, 16).\n"
     ]
    },
    {
     "name": "stderr",
     "output_type": "stream",
     "text": [
      "\n",
      "Loading dataset: 100%|██████████| 1/1 [00:00<00:00, 12520.31it/s]"
     ]
    },
    {
     "name": "stdout",
     "output_type": "stream",
     "text": [
      "BasicUNet features: (16, 32, 64, 128, 32, 16).\n"
     ]
    },
    {
     "name": "stderr",
     "output_type": "stream",
     "text": [
      "\n",
      "Loading dataset: 100%|██████████| 1/1 [00:00<00:00, 12595.51it/s]"
     ]
    },
    {
     "name": "stdout",
     "output_type": "stream",
     "text": [
      "BasicUNet features: (16, 32, 64, 128, 32, 16).\n"
     ]
    },
    {
     "name": "stderr",
     "output_type": "stream",
     "text": [
      "\n",
      "Loading dataset: 100%|██████████| 1/1 [00:00<00:00, 1582.16it/s]"
     ]
    },
    {
     "name": "stdout",
     "output_type": "stream",
     "text": [
      "BasicUNet features: (16, 32, 64, 128, 32, 16).\n"
     ]
    },
    {
     "name": "stderr",
     "output_type": "stream",
     "text": [
      "\n",
      "Loading dataset: 100%|██████████| 1/1 [00:00<00:00, 9962.72it/s]"
     ]
    },
    {
     "name": "stdout",
     "output_type": "stream",
     "text": [
      "BasicUNet features: (16, 32, 64, 128, 32, 16).\n"
     ]
    },
    {
     "name": "stderr",
     "output_type": "stream",
     "text": [
      "\n"
     ]
    }
   ],
   "source": [
    "for i in range(11):\n",
    "    voi_mask, voi = predict_cropped_srm(cropped_data['img'][i], cropped_data['Patient_ID'][i])"
   ]
  },
  {
   "cell_type": "code",
   "execution_count": 65,
   "metadata": {},
   "outputs": [
    {
     "data": {
      "text/plain": [
       "<matplotlib.image.AxesImage at 0x7f8d929ef6d0>"
      ]
     },
     "execution_count": 65,
     "metadata": {},
     "output_type": "execute_result"
    },
    {
     "data": {
      "image/png": "[encoded data removed]",
      "text/plain": [
       "<Figure size 1296x432 with 1 Axes>"
      ]
     },
     "metadata": {
      "needs_background": "light"
     },
     "output_type": "display_data"
    }
   ],
   "source": [
    "plt.figure(\"check\", (18, 6))\n",
    "plt.subplot(1, 3, 1)\n",
    "plt.imshow(voi[:, :, 10], cmap=\"gray\")"
   ]
  },
  {
   "cell_type": "markdown",
   "metadata": {},
   "source": [
    "## Inference for Classification"
   ]
  },
  {
   "cell_type": "markdown",
   "metadata": {},
   "source": [
    "### Monte Carlo Dropout: \n",
    "\n",
    "- We enabled dropout by setting best_cnn_model.train(), even during inference.\n",
    "\n",
    "- Multiple Predictions: For each sample, the model runs n_samples times to generate multiple probabilities, which are then averaged to get the mean probability and standard deviation.\n",
    "\n",
    "- Standard Deviation: The standard deviation of the probabilities is calculated to represent the model's uncertainty for each sample.\n",
    "This approach gives us both the predicted class and its associated confidence level (mean probability and standard deviation)."
   ]
  },
  {
   "cell_type": "code",
   "execution_count": 212,
   "metadata": {},
   "outputs": [
    {
     "name": "stderr",
     "output_type": "stream",
     "text": [
      "Loading dataset: 100%|██████████| 11/11 [00:00<00:00, 1210.38it/s]\n",
      "Loading dataset: 100%|██████████| 11/11 [00:00<00:00, 1374.12it/s]\n",
      "Loading dataset: 100%|██████████| 11/11 [00:00<00:00, 1618.57it/s]\n"
     ]
    },
    {
     "data": {
      "text/html": [
       "<div>\n",
       "<style scoped>\n",
       "    .dataframe tbody tr th:only-of-type {\n",
       "        vertical-align: middle;\n",
       "    }\n",
       "\n",
       "    .dataframe tbody tr th {\n",
       "        vertical-align: top;\n",
       "    }\n",
       "\n",
       "    .dataframe thead th {\n",
       "        text-align: right;\n",
       "    }\n",
       "</style>\n",
       "<table border=\"1\" class=\"dataframe\">\n",
       "  <thead>\n",
       "    <tr style=\"text-align: right;\">\n",
       "      <th></th>\n",
       "      <th>Patient_ID</th>\n",
       "      <th>Prediction</th>\n",
       "      <th>Probability</th>\n",
       "      <th>Std_Prob</th>\n",
       "    </tr>\n",
       "  </thead>\n",
       "  <tbody>\n",
       "    <tr>\n",
       "      <th>0</th>\n",
       "      <td>Renal-CHUS-0062</td>\n",
       "      <td>ccRCC</td>\n",
       "      <td>0.999018</td>\n",
       "      <td>0.002906</td>\n",
       "    </tr>\n",
       "    <tr>\n",
       "      <th>1</th>\n",
       "      <td>Renal-CHUS-0050</td>\n",
       "      <td>papRCC</td>\n",
       "      <td>0.806733</td>\n",
       "      <td>0.125563</td>\n",
       "    </tr>\n",
       "    <tr>\n",
       "      <th>2</th>\n",
       "      <td>Renal-CHUS-0073</td>\n",
       "      <td>ccRCC</td>\n",
       "      <td>0.999874</td>\n",
       "      <td>0.000534</td>\n",
       "    </tr>\n",
       "    <tr>\n",
       "      <th>3</th>\n",
       "      <td>Renal-CHUS-0105</td>\n",
       "      <td>ccRCC</td>\n",
       "      <td>0.999997</td>\n",
       "      <td>0.000012</td>\n",
       "    </tr>\n",
       "    <tr>\n",
       "      <th>4</th>\n",
       "      <td>Renal-CHUS-0107</td>\n",
       "      <td>ccRCC</td>\n",
       "      <td>0.999988</td>\n",
       "      <td>0.000042</td>\n",
       "    </tr>\n",
       "    <tr>\n",
       "      <th>5</th>\n",
       "      <td>Renal-CHUS-0061</td>\n",
       "      <td>ccRCC</td>\n",
       "      <td>0.999940</td>\n",
       "      <td>0.000358</td>\n",
       "    </tr>\n",
       "    <tr>\n",
       "      <th>6</th>\n",
       "      <td>Renal-CHUS-0106</td>\n",
       "      <td>ccRCC</td>\n",
       "      <td>0.971639</td>\n",
       "      <td>0.050814</td>\n",
       "    </tr>\n",
       "    <tr>\n",
       "      <th>7</th>\n",
       "      <td>Renal-CHUS-0048</td>\n",
       "      <td>ccRCC</td>\n",
       "      <td>0.999708</td>\n",
       "      <td>0.000468</td>\n",
       "    </tr>\n",
       "    <tr>\n",
       "      <th>8</th>\n",
       "      <td>Renal-CHUS-0069</td>\n",
       "      <td>papRCC</td>\n",
       "      <td>0.560147</td>\n",
       "      <td>0.045017</td>\n",
       "    </tr>\n",
       "    <tr>\n",
       "      <th>9</th>\n",
       "      <td>Renal-CHUS-0068</td>\n",
       "      <td>ccRCC</td>\n",
       "      <td>0.946213</td>\n",
       "      <td>0.094350</td>\n",
       "    </tr>\n",
       "    <tr>\n",
       "      <th>10</th>\n",
       "      <td>Renal-CHUS-0074</td>\n",
       "      <td>ccRCC</td>\n",
       "      <td>0.997151</td>\n",
       "      <td>0.003214</td>\n",
       "    </tr>\n",
       "  </tbody>\n",
       "</table>\n",
       "</div>"
      ],
      "text/plain": [
       "         Patient_ID Prediction  Probability  Std_Prob\n",
       "0   Renal-CHUS-0062      ccRCC     0.999018  0.002906\n",
       "1   Renal-CHUS-0050     papRCC     0.806733  0.125563\n",
       "2   Renal-CHUS-0073      ccRCC     0.999874  0.000534\n",
       "3   Renal-CHUS-0105      ccRCC     0.999997  0.000012\n",
       "4   Renal-CHUS-0107      ccRCC     0.999988  0.000042\n",
       "5   Renal-CHUS-0061      ccRCC     0.999940  0.000358\n",
       "6   Renal-CHUS-0106      ccRCC     0.971639  0.050814\n",
       "7   Renal-CHUS-0048      ccRCC     0.999708  0.000468\n",
       "8   Renal-CHUS-0069     papRCC     0.560147  0.045017\n",
       "9   Renal-CHUS-0068      ccRCC     0.946213  0.094350\n",
       "10  Renal-CHUS-0074      ccRCC     0.997151  0.003214"
      ]
     },
     "execution_count": 212,
     "metadata": {},
     "output_type": "execute_result"
    }
   ],
   "source": [
    "model_cc='/projects/renal/srm_detection_main/models/weights/classification/ccRCC_vs_non_ccRCC/best_ccRCC_vs_non_ccRCC_clf_fold_5.pth' \n",
    "output_path_cc=\"/projects/renal/demo_predictions/classification/ccRCC_vs_NonccRCC.csv\"\n",
    "\n",
    "model_grade='/projects/renal/srm_detection_main/models/weights/classification/grade/best_grade_clf_fold_5.pth' \n",
    "output_path_grade=\"/projects/renal/demo_predictions/classification/high_vs_low_grade.csv\"\n",
    "\n",
    "model_subtype='/projects/renal/srm_detection_main/models/weights/classification/subtype/best_subtype_clf_fold_5.pth' \n",
    "output_path_subtype=\"/projects/renal/demo_predictions/classification/ccRCC_vs_papRCC.csv\"\n",
    "\n",
    "predict_srm(cropped_data, model_cc, output_path_cc, keys=(\"Non ccRCC\", \"ccRCC\"))\n",
    "predict_srm(cropped_data, model_grade, output_path_grade, keys=(\"Low\", \"High\"))\n",
    "predict_srm(cropped_data, model_subtype, output_path_subtype, keys=(\"papRCC\", \"ccRCC\"))\n"
   ]
  }
 ],
 "metadata": {
  "kernelspec": {
   "display_name": "Python 3",
   "language": "python",
   "name": "python3"
  },
  "language_info": {
   "codemirror_mode": {
    "name": "ipython",
    "version": 3
   },
   "file_extension": ".py",
   "mimetype": "text/x-python",
   "name": "python",
   "nbconvert_exporter": "python",
   "pygments_lexer": "ipython3",
   "version": "3.8.10"
  }
 },
 "nbformat": 4,
 "nbformat_minor": 2
}
